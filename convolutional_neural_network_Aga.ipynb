{
 "cells": [
  {
   "cell_type": "markdown",
   "metadata": {
    "id": "3DR-eO17geWu"
   },
   "source": [
    "# Convolutional Neural Network"
   ]
  },
  {
   "cell_type": "markdown",
   "metadata": {
    "id": "EMefrVPCg-60"
   },
   "source": [
    "### Importing the libraries"
   ]
  },
  {
   "cell_type": "code",
   "execution_count": 6,
   "metadata": {
    "id": "zeF_5M1UA_T2"
   },
   "outputs": [],
   "source": [
    "import tensorflow as tf\n",
    "from tensorflow.keras.preprocessing.image import ImageDataGenerator"
   ]
  },
  {
   "cell_type": "code",
   "execution_count": 7,
   "metadata": {
    "colab": {
     "base_uri": "https://localhost:8080/",
     "height": 35
    },
    "id": "-jafuTWMBSN1",
    "outputId": "9233b99a-562c-4e87-b05d-d39b5ca57381"
   },
   "outputs": [
    {
     "data": {
      "text/plain": [
       "'2.7.0'"
      ]
     },
     "execution_count": 7,
     "metadata": {},
     "output_type": "execute_result"
    }
   ],
   "source": [
    "tf.__version__"
   ]
  },
  {
   "cell_type": "markdown",
   "metadata": {
    "id": "oxQxCBWyoGPE"
   },
   "source": [
    "## Part 1 - Data Preprocessing"
   ]
  },
  {
   "cell_type": "markdown",
   "metadata": {
    "id": "MvE-heJNo3GG"
   },
   "source": [
    "### Preprocessing the Training set"
   ]
  },
  {
   "cell_type": "code",
   "execution_count": 8,
   "metadata": {
    "id": "nEhFBzEQP8a7"
   },
   "outputs": [
    {
     "name": "stdout",
     "output_type": "stream",
     "text": [
      "Found 8000 images belonging to 2 classes.\n"
     ]
    }
   ],
   "source": [
    "train_datagen = ImageDataGenerator(rescale = 1./255,\n",
    "                                   shear_range = 0.2,\n",
    "                                   zoom_range = 0.2,\n",
    "                                   horizontal_flip = True)\n",
    "training_set = train_datagen.flow_from_directory('dataset/training_set',\n",
    "                                                 target_size = (64, 64),\n",
    "                                                 batch_size = 32,\n",
    "                                                 class_mode = 'binary')"
   ]
  },
  {
   "cell_type": "markdown",
   "metadata": {
    "id": "mrCMmGw9pHys"
   },
   "source": [
    "### Preprocessing the Test set"
   ]
  },
  {
   "cell_type": "code",
   "execution_count": 9,
   "metadata": {
    "id": "JzdoKFFbP_wi"
   },
   "outputs": [
    {
     "name": "stdout",
     "output_type": "stream",
     "text": [
      "Found 2000 images belonging to 2 classes.\n"
     ]
    }
   ],
   "source": [
    "test_datagen = ImageDataGenerator(rescale = 1./255)\n",
    "test_set = test_datagen.flow_from_directory('dataset/test_set',\n",
    "                                            target_size = (64, 64),\n",
    "                                            batch_size = 32,\n",
    "                                            class_mode = 'binary')"
   ]
  },
  {
   "cell_type": "markdown",
   "metadata": {
    "id": "af8O4l90gk7B"
   },
   "source": [
    "## Part 2 - Building the CNN"
   ]
  },
  {
   "cell_type": "markdown",
   "metadata": {
    "id": "ces1gXY2lmoX"
   },
   "source": [
    "### Initialising the CNN"
   ]
  },
  {
   "cell_type": "code",
   "execution_count": 10,
   "metadata": {
    "id": "SW76ppXHQD24"
   },
   "outputs": [],
   "source": [
    "cnn = tf.keras.models.Sequential()"
   ]
  },
  {
   "cell_type": "markdown",
   "metadata": {
    "id": "u5YJj_XMl5LF"
   },
   "source": [
    "### Step 1 - Convolution"
   ]
  },
  {
   "cell_type": "code",
   "execution_count": 11,
   "metadata": {
    "id": "GtJdX1NvQIWG"
   },
   "outputs": [],
   "source": [
    "cnn.add(tf.keras.layers.Conv2D(filters=32,kernel_size=3, activation='relu',input_shape=[64, 64, 3]))"
   ]
  },
  {
   "cell_type": "markdown",
   "metadata": {
    "id": "tf87FpvxmNOJ"
   },
   "source": [
    "### Step 2 - Pooling"
   ]
  },
  {
   "cell_type": "code",
   "execution_count": 12,
   "metadata": {
    "id": "H0IYlwViQu99"
   },
   "outputs": [],
   "source": [
    "cnn.add(tf.keras.layers.MaxPool2D(pool_size=2, strides=2))"
   ]
  },
  {
   "cell_type": "markdown",
   "metadata": {
    "id": "xaTOgD8rm4mU"
   },
   "source": [
    "### Adding a second convolutional layer"
   ]
  },
  {
   "cell_type": "code",
   "execution_count": 13,
   "metadata": {
    "id": "SVAwswIeQ9xH"
   },
   "outputs": [],
   "source": [
    "cnn.add(tf.keras.layers.Conv2D(filters=32, kernel_size=3, activation='relu'))\n",
    "cnn.add(tf.keras.layers.MaxPool2D(pool_size=2, strides=2))"
   ]
  },
  {
   "cell_type": "markdown",
   "metadata": {
    "id": "tmiEuvTunKfk"
   },
   "source": [
    "### Step 3 - Flattening"
   ]
  },
  {
   "cell_type": "code",
   "execution_count": 14,
   "metadata": {
    "id": "Jg6YYysfREb9"
   },
   "outputs": [],
   "source": [
    "cnn.add(tf.keras.layers.Flatten())"
   ]
  },
  {
   "cell_type": "markdown",
   "metadata": {
    "id": "dAoSECOm203v"
   },
   "source": [
    "### Step 4 - Full Connection"
   ]
  },
  {
   "cell_type": "code",
   "execution_count": 15,
   "metadata": {
    "id": "Tz-Y9GHuRKFp"
   },
   "outputs": [],
   "source": [
    "cnn.add(tf.keras.layers.Dense(units=128, activation='relu'))"
   ]
  },
  {
   "cell_type": "markdown",
   "metadata": {
    "id": "yTldFvbX28Na"
   },
   "source": [
    "### Step 5 - Output Layer"
   ]
  },
  {
   "cell_type": "code",
   "execution_count": 16,
   "metadata": {
    "id": "5Ax9OpLSRi-x"
   },
   "outputs": [],
   "source": [
    "cnn.add(tf.keras.layers.Dense(units=1, activation='sigmoid'))"
   ]
  },
  {
   "cell_type": "markdown",
   "metadata": {
    "id": "D6XkI90snSDl"
   },
   "source": [
    "## Part 3 - Training the CNN"
   ]
  },
  {
   "cell_type": "markdown",
   "metadata": {
    "id": "vfrFQACEnc6i"
   },
   "source": [
    "### Compiling the CNN"
   ]
  },
  {
   "cell_type": "code",
   "execution_count": 17,
   "metadata": {
    "id": "U1OtkDH5VEDW"
   },
   "outputs": [],
   "source": [
    "cnn.compile(optimizer = 'adam', loss = 'binary_crossentropy', metrics = ['accuracy'])"
   ]
  },
  {
   "cell_type": "markdown",
   "metadata": {
    "id": "ehS-v3MIpX2h"
   },
   "source": [
    "### Training the CNN on the Training set and evaluating it on the Test set"
   ]
  },
  {
   "cell_type": "code",
   "execution_count": 21,
   "metadata": {
    "id": "no-NrxMVVqyl"
   },
   "outputs": [
    {
     "name": "stdout",
     "output_type": "stream",
     "text": [
      "Epoch 1/25\n",
      "250/250 [==============================] - 33s 131ms/step - loss: 0.2067 - accuracy: 0.9155 - val_loss: 0.5763 - val_accuracy: 0.8030\n",
      "Epoch 2/25\n",
      "250/250 [==============================] - 33s 133ms/step - loss: 0.2108 - accuracy: 0.9171 - val_loss: 0.5806 - val_accuracy: 0.8105\n",
      "Epoch 3/25\n",
      "250/250 [==============================] - 33s 130ms/step - loss: 0.2026 - accuracy: 0.9206 - val_loss: 0.5785 - val_accuracy: 0.8120\n",
      "Epoch 4/25\n",
      "250/250 [==============================] - 33s 134ms/step - loss: 0.1788 - accuracy: 0.9290 - val_loss: 0.6597 - val_accuracy: 0.7850\n",
      "Epoch 5/25\n",
      "250/250 [==============================] - 33s 130ms/step - loss: 0.1848 - accuracy: 0.9233 - val_loss: 0.6147 - val_accuracy: 0.8025\n",
      "Epoch 6/25\n",
      "250/250 [==============================] - 33s 131ms/step - loss: 0.1697 - accuracy: 0.9334 - val_loss: 0.7035 - val_accuracy: 0.7935\n",
      "Epoch 7/25\n",
      "250/250 [==============================] - 33s 133ms/step - loss: 0.1686 - accuracy: 0.9330 - val_loss: 0.6399 - val_accuracy: 0.8020\n",
      "Epoch 8/25\n",
      "250/250 [==============================] - 33s 130ms/step - loss: 0.1580 - accuracy: 0.9377 - val_loss: 0.6257 - val_accuracy: 0.8070\n",
      "Epoch 9/25\n",
      "250/250 [==============================] - 32s 130ms/step - loss: 0.1566 - accuracy: 0.9384 - val_loss: 0.7884 - val_accuracy: 0.7905\n",
      "Epoch 10/25\n",
      "250/250 [==============================] - 40s 159ms/step - loss: 0.1573 - accuracy: 0.9398 - val_loss: 0.6927 - val_accuracy: 0.8005\n",
      "Epoch 11/25\n",
      "250/250 [==============================] - 34s 138ms/step - loss: 0.1418 - accuracy: 0.9473 - val_loss: 0.6426 - val_accuracy: 0.8075\n",
      "Epoch 12/25\n",
      "250/250 [==============================] - 34s 134ms/step - loss: 0.1411 - accuracy: 0.9459 - val_loss: 0.7196 - val_accuracy: 0.8050\n",
      "Epoch 13/25\n",
      "250/250 [==============================] - 32s 130ms/step - loss: 0.1316 - accuracy: 0.9494 - val_loss: 0.7423 - val_accuracy: 0.7920\n",
      "Epoch 14/25\n",
      "250/250 [==============================] - 34s 136ms/step - loss: 0.1215 - accuracy: 0.9506 - val_loss: 0.7177 - val_accuracy: 0.8125\n",
      "Epoch 15/25\n",
      "250/250 [==============================] - 32s 130ms/step - loss: 0.1270 - accuracy: 0.9523 - val_loss: 0.7419 - val_accuracy: 0.8020\n",
      "Epoch 16/25\n",
      "250/250 [==============================] - 32s 129ms/step - loss: 0.1215 - accuracy: 0.9540 - val_loss: 0.7407 - val_accuracy: 0.8005\n",
      "Epoch 17/25\n",
      "250/250 [==============================] - 33s 130ms/step - loss: 0.1172 - accuracy: 0.9560 - val_loss: 0.8166 - val_accuracy: 0.8080\n",
      "Epoch 18/25\n",
      "250/250 [==============================] - 37s 148ms/step - loss: 0.1013 - accuracy: 0.9632 - val_loss: 0.8701 - val_accuracy: 0.7900\n",
      "Epoch 19/25\n",
      "250/250 [==============================] - 41s 163ms/step - loss: 0.1044 - accuracy: 0.9600 - val_loss: 0.8524 - val_accuracy: 0.8010\n",
      "Epoch 20/25\n",
      "250/250 [==============================] - 35s 139ms/step - loss: 0.0971 - accuracy: 0.9640 - val_loss: 0.8177 - val_accuracy: 0.8060\n",
      "Epoch 21/25\n",
      "250/250 [==============================] - 35s 139ms/step - loss: 0.0926 - accuracy: 0.9660 - val_loss: 0.8499 - val_accuracy: 0.8065\n",
      "Epoch 22/25\n",
      "250/250 [==============================] - 36s 143ms/step - loss: 0.0928 - accuracy: 0.9669 - val_loss: 0.8262 - val_accuracy: 0.8105\n",
      "Epoch 23/25\n",
      "250/250 [==============================] - 35s 140ms/step - loss: 0.1021 - accuracy: 0.9610 - val_loss: 0.7769 - val_accuracy: 0.8115\n",
      "Epoch 24/25\n",
      "250/250 [==============================] - 36s 143ms/step - loss: 0.0923 - accuracy: 0.9654 - val_loss: 0.8138 - val_accuracy: 0.8120\n",
      "Epoch 25/25\n",
      "250/250 [==============================] - 38s 152ms/step - loss: 0.0859 - accuracy: 0.9690 - val_loss: 0.8700 - val_accuracy: 0.7925\n"
     ]
    },
    {
     "data": {
      "text/plain": [
       "<keras.callbacks.History at 0x1a96bbfab20>"
      ]
     },
     "execution_count": 21,
     "metadata": {},
     "output_type": "execute_result"
    }
   ],
   "source": [
    "cnn.fit(x = training_set, validation_data=test_set, epochs=25)"
   ]
  },
  {
   "cell_type": "markdown",
   "metadata": {
    "id": "U3PZasO0006Z"
   },
   "source": [
    "# Part 4 - Making a single prediction"
   ]
  },
  {
   "cell_type": "code",
   "execution_count": 25,
   "metadata": {
    "id": "68PptQteXwLn"
   },
   "outputs": [],
   "source": [
    "import numpy as np\n",
    "from tensorflow.keras.preprocessing import image\n",
    "test_image = image.load_img('dataset/single_prediction/cat_or_dog_11.jpg', target_size=(64, 64))\n",
    "test_image = image.img_to_array(test_image)\n",
    "test_image = np.expand_dims(test_image, axis = 0)\n",
    "result = cnn.predict(test_image)\n",
    "training_set.class_indices\n",
    "if result[0][0] == 1:\n",
    "  prediction = 'dog'\n",
    "else:\n",
    "  prediction = 'cat'"
   ]
  },
  {
   "cell_type": "code",
   "execution_count": 26,
   "metadata": {
    "id": "L_up4_lO6GVY"
   },
   "outputs": [
    {
     "name": "stdout",
     "output_type": "stream",
     "text": [
      "dog\n"
     ]
    }
   ],
   "source": [
    "print(prediction)"
   ]
  },
  {
   "cell_type": "code",
   "execution_count": 27,
   "metadata": {},
   "outputs": [
    {
     "name": "stdout",
     "output_type": "stream",
     "text": [
      "INFO:tensorflow:Assets written to: model_projekt\\assets\n"
     ]
    }
   ],
   "source": [
    "cnn.save ('model_projekt')"
   ]
  }
 ],
 "metadata": {
  "colab": {
   "collapsed_sections": [],
   "name": "convolutional_neural_network-Aga.ipynb",
   "provenance": [],
   "toc_visible": true
  },
  "kernelspec": {
   "display_name": "Python 3 (ipykernel)",
   "language": "python",
   "name": "python3"
  },
  "language_info": {
   "codemirror_mode": {
    "name": "ipython",
    "version": 3
   },
   "file_extension": ".py",
   "mimetype": "text/x-python",
   "name": "python",
   "nbconvert_exporter": "python",
   "pygments_lexer": "ipython3",
   "version": "3.9.13"
  }
 },
 "nbformat": 4,
 "nbformat_minor": 1
}
